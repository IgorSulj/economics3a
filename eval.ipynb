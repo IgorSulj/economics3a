{
 "cells": [
  {
   "cell_type": "code",
   "execution_count": 1,
   "metadata": {},
   "outputs": [],
   "source": [
    "%load_ext autoreload\n",
    "%autoreload 2"
   ]
  },
  {
   "cell_type": "code",
   "execution_count": 2,
   "metadata": {},
   "outputs": [
    {
     "data": {
      "text/plain": [
       "True"
      ]
     },
     "execution_count": 2,
     "metadata": {},
     "output_type": "execute_result"
    }
   ],
   "source": [
    "import yfinance as yf\n",
    "import polars as pl\n",
    "import jax.numpy as jnp\n",
    "from jax.sharding import PartitionSpec as P\n",
    "import flax.nnx as nnx\n",
    "from huggingface_hub import HfApi\n",
    "from model import Model\n",
    "from dotenv import load_dotenv\n",
    "\n",
    "load_dotenv()"
   ]
  },
  {
   "cell_type": "code",
   "execution_count": 3,
   "metadata": {},
   "outputs": [],
   "source": [
    "api = HfApi()"
   ]
  },
  {
   "cell_type": "code",
   "execution_count": 4,
   "metadata": {},
   "outputs": [],
   "source": [
    "import jax\n",
    "\n",
    "\n",
    "model = Model.load_from_hf(api, \"Kicel/economics3a\", \"itransformer\")"
   ]
  },
  {
   "cell_type": "code",
   "execution_count": 5,
   "metadata": {},
   "outputs": [],
   "source": [
    "mesh = jax.make_mesh((1,), (\"a\",))\n",
    "shard = jax.NamedSharding(mesh, P(None))\n",
    "test_set = pl.read_parquet(\"test-stocks.parquet\")"
   ]
  },
  {
   "cell_type": "code",
   "execution_count": 6,
   "metadata": {},
   "outputs": [],
   "source": [
    "from consts import LAG\n",
    "\n",
    "@nnx.vmap(in_axes=(None, None, 0))\n",
    "@nnx.jit\n",
    "def predict(model, arr, i):\n",
    "  data = jax.lax.dynamic_slice_in_dim(arr, i, LAG)\n",
    "  return model.forecast(data)"
   ]
  },
  {
   "cell_type": "code",
   "execution_count": 7,
   "metadata": {},
   "outputs": [],
   "source": [
    "model.eval()"
   ]
  },
  {
   "cell_type": "code",
   "execution_count": 38,
   "metadata": {},
   "outputs": [],
   "source": [
    "stock_name = \"SHOP\""
   ]
  },
  {
   "cell_type": "code",
   "execution_count": 39,
   "metadata": {},
   "outputs": [],
   "source": [
    "from data_loading import preprocess_history\n",
    "\n",
    "history = test_set.filter(symbol=stock_name)\n",
    "arr = preprocess_history(history).to_jax().to_device(shard)"
   ]
  },
  {
   "cell_type": "code",
   "execution_count": 40,
   "metadata": {},
   "outputs": [],
   "source": [
    "starts = jnp.arange(arr.shape[0] - LAG + 1)\n",
    "preds = predict(model, arr, starts)"
   ]
  },
  {
   "cell_type": "code",
   "execution_count": 41,
   "metadata": {},
   "outputs": [],
   "source": [
    "import numpy as np"
   ]
  },
  {
   "cell_type": "code",
   "execution_count": 42,
   "metadata": {},
   "outputs": [
    {
     "data": {
      "text/html": [
       "<div><style>\n",
       ".dataframe > thead > tr,\n",
       ".dataframe > tbody > tr {\n",
       "  text-align: right;\n",
       "  white-space: pre-wrap;\n",
       "}\n",
       "</style>\n",
       "<small>shape: (215, 8)</small><table border=\"1\" class=\"dataframe\"><thead><tr><th>symbol</th><th>date</th><th>open</th><th>close</th><th>high</th><th>low</th><th>volume</th><th>pred</th></tr><tr><td>str</td><td>date</td><td>f64</td><td>f64</td><td>f64</td><td>f64</td><td>i64</td><td>array[f32, 8]</td></tr></thead><tbody><tr><td>&quot;SHOP&quot;</td><td>2024-01-02</td><td>76.440002</td><td>73.830002</td><td>76.629997</td><td>72.910004</td><td>13134800</td><td>[NaN, NaN, … NaN]</td></tr><tr><td>&quot;SHOP&quot;</td><td>2024-01-03</td><td>72.080002</td><td>71.82</td><td>72.989998</td><td>71.18</td><td>9649900</td><td>[NaN, NaN, … NaN]</td></tr><tr><td>&quot;SHOP&quot;</td><td>2024-01-04</td><td>71.629997</td><td>73.419998</td><td>74.019997</td><td>70.614998</td><td>11927400</td><td>[NaN, NaN, … NaN]</td></tr><tr><td>&quot;SHOP&quot;</td><td>2024-01-05</td><td>73.32</td><td>74.510002</td><td>75.946999</td><td>73.0</td><td>9830200</td><td>[NaN, NaN, … NaN]</td></tr><tr><td>&quot;SHOP&quot;</td><td>2024-01-08</td><td>74.779999</td><td>77.690002</td><td>77.900002</td><td>74.720001</td><td>8232000</td><td>[NaN, NaN, … NaN]</td></tr><tr><td>&hellip;</td><td>&hellip;</td><td>&hellip;</td><td>&hellip;</td><td>&hellip;</td><td>&hellip;</td><td>&hellip;</td><td>&hellip;</td></tr><tr><td>&quot;SHOP&quot;</td><td>2024-10-31</td><td>79.75</td><td>78.209999</td><td>80.389999</td><td>77.120003</td><td>4637000</td><td>[77.618973, 77.536812, … 78.218941]</td></tr><tr><td>&quot;SHOP&quot;</td><td>2024-11-01</td><td>79.050003</td><td>78.989998</td><td>79.889999</td><td>77.940002</td><td>6189900</td><td>[79.124924, 79.18158, … 79.714035]</td></tr><tr><td>&quot;SHOP&quot;</td><td>2024-11-04</td><td>78.709999</td><td>78.440002</td><td>79.059998</td><td>77.699997</td><td>3584500</td><td>[78.617661, 78.729416, … 79.368546]</td></tr><tr><td>&quot;SHOP&quot;</td><td>2024-11-05</td><td>78.550003</td><td>79.57</td><td>80.040001</td><td>78.230003</td><td>4652300</td><td>[80.10891, 80.053238, … 80.364639]</td></tr><tr><td>&quot;SHOP&quot;</td><td>2024-11-06</td><td>81.550003</td><td>81.699997</td><td>81.849998</td><td>80.129997</td><td>3989813</td><td>[81.694878, 81.563118, … 81.796028]</td></tr></tbody></table></div>"
      ],
      "text/plain": [
       "shape: (215, 8)\n",
       "┌────────┬────────────┬───────────┬───────────┬───────────┬───────────┬──────────┬─────────────────┐\n",
       "│ symbol ┆ date       ┆ open      ┆ close     ┆ high      ┆ low       ┆ volume   ┆ pred            │\n",
       "│ ---    ┆ ---        ┆ ---       ┆ ---       ┆ ---       ┆ ---       ┆ ---      ┆ ---             │\n",
       "│ str    ┆ date       ┆ f64       ┆ f64       ┆ f64       ┆ f64       ┆ i64      ┆ array[f32, 8]   │\n",
       "╞════════╪════════════╪═══════════╪═══════════╪═══════════╪═══════════╪══════════╪═════════════════╡\n",
       "│ SHOP   ┆ 2024-01-02 ┆ 76.440002 ┆ 73.830002 ┆ 76.629997 ┆ 72.910004 ┆ 13134800 ┆ [NaN, NaN, …    │\n",
       "│        ┆            ┆           ┆           ┆           ┆           ┆          ┆ NaN]            │\n",
       "│ SHOP   ┆ 2024-01-03 ┆ 72.080002 ┆ 71.82     ┆ 72.989998 ┆ 71.18     ┆ 9649900  ┆ [NaN, NaN, …    │\n",
       "│        ┆            ┆           ┆           ┆           ┆           ┆          ┆ NaN]            │\n",
       "│ SHOP   ┆ 2024-01-04 ┆ 71.629997 ┆ 73.419998 ┆ 74.019997 ┆ 70.614998 ┆ 11927400 ┆ [NaN, NaN, …    │\n",
       "│        ┆            ┆           ┆           ┆           ┆           ┆          ┆ NaN]            │\n",
       "│ SHOP   ┆ 2024-01-05 ┆ 73.32     ┆ 74.510002 ┆ 75.946999 ┆ 73.0      ┆ 9830200  ┆ [NaN, NaN, …    │\n",
       "│        ┆            ┆           ┆           ┆           ┆           ┆          ┆ NaN]            │\n",
       "│ SHOP   ┆ 2024-01-08 ┆ 74.779999 ┆ 77.690002 ┆ 77.900002 ┆ 74.720001 ┆ 8232000  ┆ [NaN, NaN, …    │\n",
       "│        ┆            ┆           ┆           ┆           ┆           ┆          ┆ NaN]            │\n",
       "│ …      ┆ …          ┆ …         ┆ …         ┆ …         ┆ …         ┆ …        ┆ …               │\n",
       "│ SHOP   ┆ 2024-10-31 ┆ 79.75     ┆ 78.209999 ┆ 80.389999 ┆ 77.120003 ┆ 4637000  ┆ [77.618973,     │\n",
       "│        ┆            ┆           ┆           ┆           ┆           ┆          ┆ 77.536812, …    │\n",
       "│        ┆            ┆           ┆           ┆           ┆           ┆          ┆ 78.21…          │\n",
       "│ SHOP   ┆ 2024-11-01 ┆ 79.050003 ┆ 78.989998 ┆ 79.889999 ┆ 77.940002 ┆ 6189900  ┆ [79.124924,     │\n",
       "│        ┆            ┆           ┆           ┆           ┆           ┆          ┆ 79.18158, …     │\n",
       "│        ┆            ┆           ┆           ┆           ┆           ┆          ┆ 79.714…         │\n",
       "│ SHOP   ┆ 2024-11-04 ┆ 78.709999 ┆ 78.440002 ┆ 79.059998 ┆ 77.699997 ┆ 3584500  ┆ [78.617661,     │\n",
       "│        ┆            ┆           ┆           ┆           ┆           ┆          ┆ 78.729416, …    │\n",
       "│        ┆            ┆           ┆           ┆           ┆           ┆          ┆ 79.36…          │\n",
       "│ SHOP   ┆ 2024-11-05 ┆ 78.550003 ┆ 79.57     ┆ 80.040001 ┆ 78.230003 ┆ 4652300  ┆ [80.10891,      │\n",
       "│        ┆            ┆           ┆           ┆           ┆           ┆          ┆ 80.053238, …    │\n",
       "│        ┆            ┆           ┆           ┆           ┆           ┆          ┆ 80.364…         │\n",
       "│ SHOP   ┆ 2024-11-06 ┆ 81.550003 ┆ 81.699997 ┆ 81.849998 ┆ 80.129997 ┆ 3989813  ┆ [81.694878,     │\n",
       "│        ┆            ┆           ┆           ┆           ┆           ┆          ┆ 81.563118, …    │\n",
       "│        ┆            ┆           ┆           ┆           ┆           ┆          ┆ 81.79…          │\n",
       "└────────┴────────────┴───────────┴───────────┴───────────┴───────────┴──────────┴─────────────────┘"
      ]
     },
     "execution_count": 42,
     "metadata": {},
     "output_type": "execute_result"
    }
   ],
   "source": [
    "df = history.with_columns(\n",
    "    pred=np.array(jnp.pad(preds, [(LAG - 1 + 20, 0), (0, 0)], mode='constant', constant_values=jnp.nan))  # type: ignore\n",
    ")\n",
    "df"
   ]
  },
  {
   "cell_type": "code",
   "execution_count": 43,
   "metadata": {},
   "outputs": [],
   "source": [
    "df.write_parquet(f\"analysis/i/{stock_name.lower()}.parquet\")"
   ]
  }
 ],
 "metadata": {
  "kernelspec": {
   "display_name": "3.12.4",
   "language": "python",
   "name": "python3"
  },
  "language_info": {
   "codemirror_mode": {
    "name": "ipython",
    "version": 3
   },
   "file_extension": ".py",
   "mimetype": "text/x-python",
   "name": "python",
   "nbconvert_exporter": "python",
   "pygments_lexer": "ipython3",
   "version": "3.12.4"
  }
 },
 "nbformat": 4,
 "nbformat_minor": 2
}
