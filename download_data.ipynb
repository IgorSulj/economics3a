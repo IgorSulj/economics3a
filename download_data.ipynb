{
 "cells": [
  {
   "cell_type": "code",
   "execution_count": null,
   "metadata": {},
   "outputs": [],
   "source": [
    "import yfinance as yf"
   ]
  },
  {
   "cell_type": "code",
   "execution_count": 5,
   "metadata": {},
   "outputs": [
    {
     "data": {
      "text/html": [
       "<div>\n",
       "<style scoped>\n",
       "    .dataframe tbody tr th:only-of-type {\n",
       "        vertical-align: middle;\n",
       "    }\n",
       "\n",
       "    .dataframe tbody tr th {\n",
       "        vertical-align: top;\n",
       "    }\n",
       "\n",
       "    .dataframe thead th {\n",
       "        text-align: right;\n",
       "    }\n",
       "</style>\n",
       "<table border=\"1\" class=\"dataframe\">\n",
       "  <thead>\n",
       "    <tr style=\"text-align: right;\">\n",
       "      <th></th>\n",
       "      <th>Open</th>\n",
       "      <th>High</th>\n",
       "      <th>Low</th>\n",
       "      <th>Close</th>\n",
       "      <th>Volume</th>\n",
       "      <th>Dividends</th>\n",
       "      <th>Stock Splits</th>\n",
       "    </tr>\n",
       "    <tr>\n",
       "      <th>Date</th>\n",
       "      <th></th>\n",
       "      <th></th>\n",
       "      <th></th>\n",
       "      <th></th>\n",
       "      <th></th>\n",
       "      <th></th>\n",
       "      <th></th>\n",
       "    </tr>\n",
       "  </thead>\n",
       "  <tbody>\n",
       "    <tr>\n",
       "      <th>2020-12-10 00:00:00-05:00</th>\n",
       "      <td>146.000000</td>\n",
       "      <td>165.000000</td>\n",
       "      <td>141.250000</td>\n",
       "      <td>144.710007</td>\n",
       "      <td>70447500</td>\n",
       "      <td>0.0</td>\n",
       "      <td>0.0</td>\n",
       "    </tr>\n",
       "    <tr>\n",
       "      <th>2020-12-11 00:00:00-05:00</th>\n",
       "      <td>146.550003</td>\n",
       "      <td>151.500000</td>\n",
       "      <td>135.100006</td>\n",
       "      <td>139.250000</td>\n",
       "      <td>26980800</td>\n",
       "      <td>0.0</td>\n",
       "      <td>0.0</td>\n",
       "    </tr>\n",
       "    <tr>\n",
       "      <th>2020-12-14 00:00:00-05:00</th>\n",
       "      <td>135.000000</td>\n",
       "      <td>135.300003</td>\n",
       "      <td>125.160004</td>\n",
       "      <td>130.000000</td>\n",
       "      <td>16966100</td>\n",
       "      <td>0.0</td>\n",
       "      <td>0.0</td>\n",
       "    </tr>\n",
       "    <tr>\n",
       "      <th>2020-12-15 00:00:00-05:00</th>\n",
       "      <td>126.690002</td>\n",
       "      <td>127.599998</td>\n",
       "      <td>121.500000</td>\n",
       "      <td>124.800003</td>\n",
       "      <td>10914400</td>\n",
       "      <td>0.0</td>\n",
       "      <td>0.0</td>\n",
       "    </tr>\n",
       "    <tr>\n",
       "      <th>2020-12-16 00:00:00-05:00</th>\n",
       "      <td>125.830002</td>\n",
       "      <td>142.000000</td>\n",
       "      <td>124.910004</td>\n",
       "      <td>137.990005</td>\n",
       "      <td>20409600</td>\n",
       "      <td>0.0</td>\n",
       "      <td>0.0</td>\n",
       "    </tr>\n",
       "    <tr>\n",
       "      <th>...</th>\n",
       "      <td>...</td>\n",
       "      <td>...</td>\n",
       "      <td>...</td>\n",
       "      <td>...</td>\n",
       "      <td>...</td>\n",
       "      <td>...</td>\n",
       "      <td>...</td>\n",
       "    </tr>\n",
       "    <tr>\n",
       "      <th>2024-10-28 00:00:00-04:00</th>\n",
       "      <td>136.300003</td>\n",
       "      <td>137.300003</td>\n",
       "      <td>135.399994</td>\n",
       "      <td>135.779999</td>\n",
       "      <td>3260400</td>\n",
       "      <td>0.0</td>\n",
       "      <td>0.0</td>\n",
       "    </tr>\n",
       "    <tr>\n",
       "      <th>2024-10-29 00:00:00-04:00</th>\n",
       "      <td>135.330002</td>\n",
       "      <td>138.350006</td>\n",
       "      <td>135.244003</td>\n",
       "      <td>137.779999</td>\n",
       "      <td>2871900</td>\n",
       "      <td>0.0</td>\n",
       "      <td>0.0</td>\n",
       "    </tr>\n",
       "    <tr>\n",
       "      <th>2024-10-30 00:00:00-04:00</th>\n",
       "      <td>136.470001</td>\n",
       "      <td>138.660004</td>\n",
       "      <td>136.309998</td>\n",
       "      <td>136.500000</td>\n",
       "      <td>3010500</td>\n",
       "      <td>0.0</td>\n",
       "      <td>0.0</td>\n",
       "    </tr>\n",
       "    <tr>\n",
       "      <th>2024-10-31 00:00:00-04:00</th>\n",
       "      <td>137.699997</td>\n",
       "      <td>138.059998</td>\n",
       "      <td>134.259995</td>\n",
       "      <td>134.789993</td>\n",
       "      <td>5049100</td>\n",
       "      <td>0.0</td>\n",
       "      <td>0.0</td>\n",
       "    </tr>\n",
       "    <tr>\n",
       "      <th>2024-11-01 00:00:00-04:00</th>\n",
       "      <td>133.960007</td>\n",
       "      <td>136.880005</td>\n",
       "      <td>133.804993</td>\n",
       "      <td>136.460007</td>\n",
       "      <td>3707100</td>\n",
       "      <td>0.0</td>\n",
       "      <td>0.0</td>\n",
       "    </tr>\n",
       "  </tbody>\n",
       "</table>\n",
       "<p>980 rows × 7 columns</p>\n",
       "</div>"
      ],
      "text/plain": [
       "                                 Open        High         Low       Close  \\\n",
       "Date                                                                        \n",
       "2020-12-10 00:00:00-05:00  146.000000  165.000000  141.250000  144.710007   \n",
       "2020-12-11 00:00:00-05:00  146.550003  151.500000  135.100006  139.250000   \n",
       "2020-12-14 00:00:00-05:00  135.000000  135.300003  125.160004  130.000000   \n",
       "2020-12-15 00:00:00-05:00  126.690002  127.599998  121.500000  124.800003   \n",
       "2020-12-16 00:00:00-05:00  125.830002  142.000000  124.910004  137.990005   \n",
       "...                               ...         ...         ...         ...   \n",
       "2024-10-28 00:00:00-04:00  136.300003  137.300003  135.399994  135.779999   \n",
       "2024-10-29 00:00:00-04:00  135.330002  138.350006  135.244003  137.779999   \n",
       "2024-10-30 00:00:00-04:00  136.470001  138.660004  136.309998  136.500000   \n",
       "2024-10-31 00:00:00-04:00  137.699997  138.059998  134.259995  134.789993   \n",
       "2024-11-01 00:00:00-04:00  133.960007  136.880005  133.804993  136.460007   \n",
       "\n",
       "                             Volume  Dividends  Stock Splits  \n",
       "Date                                                          \n",
       "2020-12-10 00:00:00-05:00  70447500        0.0           0.0  \n",
       "2020-12-11 00:00:00-05:00  26980800        0.0           0.0  \n",
       "2020-12-14 00:00:00-05:00  16966100        0.0           0.0  \n",
       "2020-12-15 00:00:00-05:00  10914400        0.0           0.0  \n",
       "2020-12-16 00:00:00-05:00  20409600        0.0           0.0  \n",
       "...                             ...        ...           ...  \n",
       "2024-10-28 00:00:00-04:00   3260400        0.0           0.0  \n",
       "2024-10-29 00:00:00-04:00   2871900        0.0           0.0  \n",
       "2024-10-30 00:00:00-04:00   3010500        0.0           0.0  \n",
       "2024-10-31 00:00:00-04:00   5049100        0.0           0.0  \n",
       "2024-11-01 00:00:00-04:00   3707100        0.0           0.0  \n",
       "\n",
       "[980 rows x 7 columns]"
      ]
     },
     "execution_count": 5,
     "metadata": {},
     "output_type": "execute_result"
    }
   ],
   "source": [
    "yf.Ticker(\"ABNB\").history(period='max')"
   ]
  },
  {
   "cell_type": "code",
   "execution_count": 7,
   "metadata": {},
   "outputs": [
    {
     "data": {
      "text/plain": [
       "2371780"
      ]
     },
     "execution_count": 7,
     "metadata": {},
     "output_type": "execute_result"
    }
   ],
   "source": [
    "import json\n",
    "from pathlib import Path\n",
    "\n",
    "\n",
    "nasdaq_data = Path(\"nasdaq_data.json\").read_text()\n",
    "tickers = json.loads(nasdaq_data)['data']['rows']\n",
    "tickers_dumped = json.dumps(tickers)\n",
    "Path(\"tickers.json\").write_text(tickers_dumped)"
   ]
  },
  {
   "cell_type": "code",
   "execution_count": 2,
   "metadata": {},
   "outputs": [],
   "source": [
    "from data_loading import load_tickers"
   ]
  },
  {
   "cell_type": "code",
   "execution_count": 29,
   "metadata": {},
   "outputs": [
    {
     "data": {
      "text/html": [
       "<div><style>\n",
       ".dataframe > thead > tr,\n",
       ".dataframe > tbody > tr {\n",
       "  text-align: right;\n",
       "  white-space: pre-wrap;\n",
       "}\n",
       "</style>\n",
       "<small>shape: (7_005, 12)</small><table border=\"1\" class=\"dataframe\"><thead><tr><th>symbol</th><th>name</th><th>lastsale</th><th>netchange</th><th>pctchange</th><th>volume</th><th>marketCap</th><th>country</th><th>ipoyear</th><th>industry</th><th>sector</th><th>url</th></tr><tr><td>str</td><td>str</td><td>str</td><td>str</td><td>str</td><td>str</td><td>str</td><td>str</td><td>str</td><td>str</td><td>str</td><td>str</td></tr></thead><tbody><tr><td>&quot;LFST&quot;</td><td>&quot;LifeStance Health Group Inc. C…</td><td>&quot;$6.81&quot;</td><td>&quot;0.10&quot;</td><td>&quot;1.49%&quot;</td><td>&quot;892774&quot;</td><td>&quot;2605660614.00&quot;</td><td>&quot;United States&quot;</td><td>&quot;2021&quot;</td><td>&quot;Medical/Nursing Services&quot;</td><td>&quot;Health Care&quot;</td><td>&quot;/market-activity/stocks/lfst&quot;</td></tr><tr><td>&quot;OMGA&quot;</td><td>&quot;Omega Therapeutics Inc. Common…</td><td>&quot;$1.11&quot;</td><td>&quot;-0.05&quot;</td><td>&quot;-4.31%&quot;</td><td>&quot;245221&quot;</td><td>&quot;61222033.00&quot;</td><td>&quot;United States&quot;</td><td>&quot;2021&quot;</td><td>&quot;Biotechnology: Biological Prod…</td><td>&quot;Health Care&quot;</td><td>&quot;/market-activity/stocks/omga&quot;</td></tr><tr><td>&quot;IVR^C&quot;</td><td>&quot;INVESCO MORTGAGE CAPITAL INC 7…</td><td>&quot;$24.01&quot;</td><td>&quot;-0.24&quot;</td><td>&quot;-0.99%&quot;</td><td>&quot;6286&quot;</td><td>&quot;&quot;</td><td>&quot;United States&quot;</td><td>&quot;&quot;</td><td>&quot;&quot;</td><td>&quot;&quot;</td><td>&quot;/market-activity/stocks/ivr^c&quot;</td></tr><tr><td>&quot;WCN&quot;</td><td>&quot;Waste Connections Inc. Common …</td><td>&quot;$176.96&quot;</td><td>&quot;0.21&quot;</td><td>&quot;0.119%&quot;</td><td>&quot;554994&quot;</td><td>&quot;45662302020.00&quot;</td><td>&quot;Canada&quot;</td><td>&quot;&quot;</td><td>&quot;Environmental Services&quot;</td><td>&quot;Utilities&quot;</td><td>&quot;/market-activity/stocks/wcn&quot;</td></tr><tr><td>&quot;CITEW&quot;</td><td>&quot;Cartica Acquisition Corp Warra…</td><td>&quot;$0.12&quot;</td><td>&quot;0.00&quot;</td><td>&quot;0.00%&quot;</td><td>&quot;41000&quot;</td><td>&quot;0.00&quot;</td><td>&quot;United States&quot;</td><td>&quot;2022&quot;</td><td>&quot;Blank Checks&quot;</td><td>&quot;Finance&quot;</td><td>&quot;/market-activity/stocks/citew&quot;</td></tr><tr><td>&hellip;</td><td>&hellip;</td><td>&hellip;</td><td>&hellip;</td><td>&hellip;</td><td>&hellip;</td><td>&hellip;</td><td>&hellip;</td><td>&hellip;</td><td>&hellip;</td><td>&hellip;</td><td>&hellip;</td></tr><tr><td>&quot;PSA^J&quot;</td><td>&quot;Public Storage Depositary Shar…</td><td>&quot;$21.83&quot;</td><td>&quot;-0.17&quot;</td><td>&quot;-0.773%&quot;</td><td>&quot;7264&quot;</td><td>&quot;&quot;</td><td>&quot;United States&quot;</td><td>&quot;&quot;</td><td>&quot;&quot;</td><td>&quot;&quot;</td><td>&quot;/market-activity/stocks/psa^j&quot;</td></tr><tr><td>&quot;PEB^E&quot;</td><td>&quot;Pebblebrook Hotel Trust 6.375%…</td><td>&quot;$22.40&quot;</td><td>&quot;-0.19&quot;</td><td>&quot;-0.841%&quot;</td><td>&quot;8578&quot;</td><td>&quot;&quot;</td><td>&quot;United States&quot;</td><td>&quot;&quot;</td><td>&quot;&quot;</td><td>&quot;&quot;</td><td>&quot;/market-activity/stocks/peb^e&quot;</td></tr><tr><td>&quot;JHI&quot;</td><td>&quot;John Hancock Investors Trust C…</td><td>&quot;$14.11&quot;</td><td>&quot;-0.03&quot;</td><td>&quot;-0.212%&quot;</td><td>&quot;8712&quot;</td><td>&quot;123385558.00&quot;</td><td>&quot;United States&quot;</td><td>&quot;&quot;</td><td>&quot;Trusts Except Educational Reli…</td><td>&quot;Finance&quot;</td><td>&quot;/market-activity/stocks/jhi&quot;</td></tr><tr><td>&quot;STRA&quot;</td><td>&quot;Strategic Education Inc. Commo…</td><td>&quot;$86.63&quot;</td><td>&quot;-0.33&quot;</td><td>&quot;-0.379%&quot;</td><td>&quot;100653&quot;</td><td>&quot;2133089970.00&quot;</td><td>&quot;United States&quot;</td><td>&quot;1996&quot;</td><td>&quot;Other Consumer Services&quot;</td><td>&quot;Real Estate&quot;</td><td>&quot;/market-activity/stocks/stra&quot;</td></tr><tr><td>&quot;FHTX&quot;</td><td>&quot;Foghorn Therapeutics Inc. Comm…</td><td>&quot;$8.30&quot;</td><td>&quot;0.68&quot;</td><td>&quot;8.924%&quot;</td><td>&quot;66713&quot;</td><td>&quot;459227837.00&quot;</td><td>&quot;United States&quot;</td><td>&quot;2020&quot;</td><td>&quot;Biotechnology: Pharmaceutical …</td><td>&quot;Health Care&quot;</td><td>&quot;/market-activity/stocks/fhtx&quot;</td></tr></tbody></table></div>"
      ],
      "text/plain": [
       "shape: (7_005, 12)\n",
       "┌────────┬─────────────┬──────────┬───────────┬───┬─────────┬────────────┬────────────┬────────────┐\n",
       "│ symbol ┆ name        ┆ lastsale ┆ netchange ┆ … ┆ ipoyear ┆ industry   ┆ sector     ┆ url        │\n",
       "│ ---    ┆ ---         ┆ ---      ┆ ---       ┆   ┆ ---     ┆ ---        ┆ ---        ┆ ---        │\n",
       "│ str    ┆ str         ┆ str      ┆ str       ┆   ┆ str     ┆ str        ┆ str        ┆ str        │\n",
       "╞════════╪═════════════╪══════════╪═══════════╪═══╪═════════╪════════════╪════════════╪════════════╡\n",
       "│ LFST   ┆ LifeStance  ┆ $6.81    ┆ 0.10      ┆ … ┆ 2021    ┆ Medical/Nu ┆ Health     ┆ /market-ac │\n",
       "│        ┆ Health      ┆          ┆           ┆   ┆         ┆ rsing      ┆ Care       ┆ tivity/sto │\n",
       "│        ┆ Group Inc.  ┆          ┆           ┆   ┆         ┆ Services   ┆            ┆ cks/lfst   │\n",
       "│        ┆ C…          ┆          ┆           ┆   ┆         ┆            ┆            ┆            │\n",
       "│ OMGA   ┆ Omega Thera ┆ $1.11    ┆ -0.05     ┆ … ┆ 2021    ┆ Biotechnol ┆ Health     ┆ /market-ac │\n",
       "│        ┆ peutics     ┆          ┆           ┆   ┆         ┆ ogy:       ┆ Care       ┆ tivity/sto │\n",
       "│        ┆ Inc.        ┆          ┆           ┆   ┆         ┆ Biological ┆            ┆ cks/omga   │\n",
       "│        ┆ Common…     ┆          ┆           ┆   ┆         ┆ Prod…      ┆            ┆            │\n",
       "│ IVR^C  ┆ INVESCO     ┆ $24.01   ┆ -0.24     ┆ … ┆         ┆            ┆            ┆ /market-ac │\n",
       "│        ┆ MORTGAGE    ┆          ┆           ┆   ┆         ┆            ┆            ┆ tivity/sto │\n",
       "│        ┆ CAPITAL INC ┆          ┆           ┆   ┆         ┆            ┆            ┆ cks/ivr^c  │\n",
       "│        ┆ 7…          ┆          ┆           ┆   ┆         ┆            ┆            ┆            │\n",
       "│ WCN    ┆ Waste       ┆ $176.96  ┆ 0.21      ┆ … ┆         ┆ Environmen ┆ Utilities  ┆ /market-ac │\n",
       "│        ┆ Connections ┆          ┆           ┆   ┆         ┆ tal        ┆            ┆ tivity/sto │\n",
       "│        ┆ Inc. Common ┆          ┆           ┆   ┆         ┆ Services   ┆            ┆ cks/wcn    │\n",
       "│        ┆ …           ┆          ┆           ┆   ┆         ┆            ┆            ┆            │\n",
       "│ CITEW  ┆ Cartica     ┆ $0.12    ┆ 0.00      ┆ … ┆ 2022    ┆ Blank      ┆ Finance    ┆ /market-ac │\n",
       "│        ┆ Acquisition ┆          ┆           ┆   ┆         ┆ Checks     ┆            ┆ tivity/sto │\n",
       "│        ┆ Corp Warra… ┆          ┆           ┆   ┆         ┆            ┆            ┆ cks/citew  │\n",
       "│ …      ┆ …           ┆ …        ┆ …         ┆ … ┆ …       ┆ …          ┆ …          ┆ …          │\n",
       "│ PSA^J  ┆ Public      ┆ $21.83   ┆ -0.17     ┆ … ┆         ┆            ┆            ┆ /market-ac │\n",
       "│        ┆ Storage     ┆          ┆           ┆   ┆         ┆            ┆            ┆ tivity/sto │\n",
       "│        ┆ Depositary  ┆          ┆           ┆   ┆         ┆            ┆            ┆ cks/psa^j  │\n",
       "│        ┆ Shar…       ┆          ┆           ┆   ┆         ┆            ┆            ┆            │\n",
       "│ PEB^E  ┆ Pebblebrook ┆ $22.40   ┆ -0.19     ┆ … ┆         ┆            ┆            ┆ /market-ac │\n",
       "│        ┆ Hotel Trust ┆          ┆           ┆   ┆         ┆            ┆            ┆ tivity/sto │\n",
       "│        ┆ 6.375%…     ┆          ┆           ┆   ┆         ┆            ┆            ┆ cks/peb^e  │\n",
       "│ JHI    ┆ John        ┆ $14.11   ┆ -0.03     ┆ … ┆         ┆ Trusts     ┆ Finance    ┆ /market-ac │\n",
       "│        ┆ Hancock     ┆          ┆           ┆   ┆         ┆ Except Edu ┆            ┆ tivity/sto │\n",
       "│        ┆ Investors   ┆          ┆           ┆   ┆         ┆ cational   ┆            ┆ cks/jhi    │\n",
       "│        ┆ Trust C…    ┆          ┆           ┆   ┆         ┆ Reli…      ┆            ┆            │\n",
       "│ STRA   ┆ Strategic   ┆ $86.63   ┆ -0.33     ┆ … ┆ 1996    ┆ Other      ┆ Real       ┆ /market-ac │\n",
       "│        ┆ Education   ┆          ┆           ┆   ┆         ┆ Consumer   ┆ Estate     ┆ tivity/sto │\n",
       "│        ┆ Inc. Commo… ┆          ┆           ┆   ┆         ┆ Services   ┆            ┆ cks/stra   │\n",
       "│ FHTX   ┆ Foghorn The ┆ $8.30    ┆ 0.68      ┆ … ┆ 2020    ┆ Biotechnol ┆ Health     ┆ /market-ac │\n",
       "│        ┆ rapeutics   ┆          ┆           ┆   ┆         ┆ ogy: Pharm ┆ Care       ┆ tivity/sto │\n",
       "│        ┆ Inc. Comm…  ┆          ┆           ┆   ┆         ┆ aceutical  ┆            ┆ cks/fhtx   │\n",
       "│        ┆             ┆          ┆           ┆   ┆         ┆ …          ┆            ┆            │\n",
       "└────────┴─────────────┴──────────┴───────────┴───┴─────────┴────────────┴────────────┴────────────┘"
      ]
     },
     "execution_count": 29,
     "metadata": {},
     "output_type": "execute_result"
    }
   ],
   "source": [
    "tickers = load_tickers()\n",
    "\n",
    "train_tickers = tickers.filter(~pl.col('symbol').is_in(['GOOG', 'TSLA', 'SHOP']))\n",
    "train_tickers"
   ]
  },
  {
   "cell_type": "code",
   "execution_count": 34,
   "metadata": {},
   "outputs": [
    {
     "data": {
      "text/html": [
       "<div><style>\n",
       ".dataframe > thead > tr,\n",
       ".dataframe > tbody > tr {\n",
       "  text-align: right;\n",
       "  white-space: pre-wrap;\n",
       "}\n",
       "</style>\n",
       "<small>shape: (13, 1)</small><table border=\"1\" class=\"dataframe\"><thead><tr><th>symbol</th></tr><tr><td>str</td></tr></thead><tbody><tr><td>&quot;MEG&quot;</td></tr><tr><td>&quot;NOG&quot;</td></tr><tr><td>&quot;IVR^C&quot;</td></tr><tr><td>&quot;WCN&quot;</td></tr><tr><td>&quot;SACC&quot;</td></tr><tr><td>&hellip;</td></tr><tr><td>&quot;MTAL&quot;</td></tr><tr><td>&quot;CITEW&quot;</td></tr><tr><td>&quot;BUD&quot;</td></tr><tr><td>&quot;POLA&quot;</td></tr><tr><td>&quot;VTEX&quot;</td></tr></tbody></table></div>"
      ],
      "text/plain": [
       "shape: (13, 1)\n",
       "┌────────┐\n",
       "│ symbol │\n",
       "│ ---    │\n",
       "│ str    │\n",
       "╞════════╡\n",
       "│ MEG    │\n",
       "│ NOG    │\n",
       "│ IVR^C  │\n",
       "│ WCN    │\n",
       "│ SACC   │\n",
       "│ …      │\n",
       "│ MTAL   │\n",
       "│ CITEW  │\n",
       "│ BUD    │\n",
       "│ POLA   │\n",
       "│ VTEX   │\n",
       "└────────┘"
      ]
     },
     "execution_count": 34,
     "metadata": {},
     "output_type": "execute_result"
    }
   ],
   "source": [
    "also_test_tickers = train_tickers.group_by('sector').agg(pl.first('symbol')).drop('sector')\n",
    "also_test_tickers"
   ]
  },
  {
   "cell_type": "code",
   "execution_count": 35,
   "metadata": {},
   "outputs": [
    {
     "data": {
      "text/html": [
       "<div><style>\n",
       ".dataframe > thead > tr,\n",
       ".dataframe > tbody > tr {\n",
       "  text-align: right;\n",
       "  white-space: pre-wrap;\n",
       "}\n",
       "</style>\n",
       "<small>shape: (16, 1)</small><table border=\"1\" class=\"dataframe\"><thead><tr><th>symbol</th></tr><tr><td>str</td></tr></thead><tbody><tr><td>&quot;GOOG&quot;</td></tr><tr><td>&quot;TSLA&quot;</td></tr><tr><td>&quot;SHOP&quot;</td></tr><tr><td>&quot;MEG&quot;</td></tr><tr><td>&quot;NOG&quot;</td></tr><tr><td>&hellip;</td></tr><tr><td>&quot;MTAL&quot;</td></tr><tr><td>&quot;CITEW&quot;</td></tr><tr><td>&quot;BUD&quot;</td></tr><tr><td>&quot;POLA&quot;</td></tr><tr><td>&quot;VTEX&quot;</td></tr></tbody></table></div>"
      ],
      "text/plain": [
       "shape: (16, 1)\n",
       "┌────────┐\n",
       "│ symbol │\n",
       "│ ---    │\n",
       "│ str    │\n",
       "╞════════╡\n",
       "│ GOOG   │\n",
       "│ TSLA   │\n",
       "│ SHOP   │\n",
       "│ MEG    │\n",
       "│ NOG    │\n",
       "│ …      │\n",
       "│ MTAL   │\n",
       "│ CITEW  │\n",
       "│ BUD    │\n",
       "│ POLA   │\n",
       "│ VTEX   │\n",
       "└────────┘"
      ]
     },
     "execution_count": 35,
     "metadata": {},
     "output_type": "execute_result"
    }
   ],
   "source": [
    "test_tickers = pl.concat([\n",
    "    pl.DataFrame({\n",
    "        'symbol': ['GOOG', 'TSLA', 'SHOP']\n",
    "    }),\n",
    "    also_test_tickers\n",
    "])\n",
    "test_tickers"
   ]
  },
  {
   "cell_type": "code",
   "execution_count": 37,
   "metadata": {},
   "outputs": [],
   "source": [
    "test_tickers.write_parquet(\"test_tickers.parquet\")"
   ]
  },
  {
   "cell_type": "code",
   "execution_count": 39,
   "metadata": {},
   "outputs": [],
   "source": [
    "train_tickers = tickers.filter(~pl.col('symbol').is_in(test_tickers['symbol']))\n",
    "train_tickers.select('symbol').write_parquet(\"train_tickers.parquet\")"
   ]
  }
 ],
 "metadata": {
  "kernelspec": {
   "display_name": "3.12.4",
   "language": "python",
   "name": "python3"
  },
  "language_info": {
   "codemirror_mode": {
    "name": "ipython",
    "version": 3
   },
   "file_extension": ".py",
   "mimetype": "text/x-python",
   "name": "python",
   "nbconvert_exporter": "python",
   "pygments_lexer": "ipython3",
   "version": "3.12.4"
  }
 },
 "nbformat": 4,
 "nbformat_minor": 2
}
