{
 "cells": [
  {
   "cell_type": "code",
   "execution_count": 98,
   "metadata": {},
   "outputs": [],
   "source": [
    "import polars as pl"
   ]
  },
  {
   "cell_type": "code",
   "execution_count": 99,
   "metadata": {},
   "outputs": [
    {
     "data": {
      "text/html": [
       "<div><style>\n",
       ".dataframe > thead > tr,\n",
       ".dataframe > tbody > tr {\n",
       "  text-align: right;\n",
       "  white-space: pre-wrap;\n",
       "}\n",
       "</style>\n",
       "<small>shape: (164, 8)</small><table border=\"1\" class=\"dataframe\"><thead><tr><th>symbol</th><th>date</th><th>open</th><th>close</th><th>high</th><th>low</th><th>volume</th><th>pred</th></tr><tr><td>str</td><td>date</td><td>f64</td><td>f64</td><td>f64</td><td>f64</td><td>i64</td><td>array[f32, 8]</td></tr></thead><tbody><tr><td>&quot;AMZN&quot;</td><td>2024-03-15</td><td>176.639999</td><td>174.419998</td><td>177.929993</td><td>173.899994</td><td>72115500</td><td>[173.260468, 173.433975, … 173.815308]</td></tr><tr><td>&quot;AMZN&quot;</td><td>2024-03-18</td><td>175.800003</td><td>174.479996</td><td>176.690002</td><td>174.279999</td><td>31250700</td><td>[174.102325, 174.274918, … 175.117676]</td></tr><tr><td>&quot;AMZN&quot;</td><td>2024-03-19</td><td>174.220001</td><td>175.899994</td><td>176.089996</td><td>173.520004</td><td>26880900</td><td>[176.449158, 176.600403, … 177.051682]</td></tr><tr><td>&quot;AMZN&quot;</td><td>2024-03-20</td><td>176.139999</td><td>178.149994</td><td>178.529999</td><td>174.639999</td><td>29947200</td><td>[178.290375, 178.366974, … 179.159897]</td></tr><tr><td>&quot;AMZN&quot;</td><td>2024-03-21</td><td>179.990005</td><td>178.149994</td><td>181.419998</td><td>178.149994</td><td>32824300</td><td>[179.562714, 179.60614, … 179.870117]</td></tr><tr><td>&hellip;</td><td>&hellip;</td><td>&hellip;</td><td>&hellip;</td><td>&hellip;</td><td>&hellip;</td><td>&hellip;</td><td>&hellip;</td></tr><tr><td>&quot;AMZN&quot;</td><td>2024-10-31</td><td>190.509995</td><td>186.399994</td><td>190.600006</td><td>185.229996</td><td>75146800</td><td>[184.40036, 183.942627, … 184.04361]</td></tr><tr><td>&quot;AMZN&quot;</td><td>2024-11-01</td><td>199.0</td><td>197.929993</td><td>200.5</td><td>197.020004</td><td>99687800</td><td>[200.619995, 199.987335, … 200.000198]</td></tr><tr><td>&quot;AMZN&quot;</td><td>2024-11-04</td><td>196.449997</td><td>195.779999</td><td>197.330002</td><td>194.309998</td><td>38492100</td><td>[196.872269, 196.485413, … 196.674103]</td></tr><tr><td>&quot;AMZN&quot;</td><td>2024-11-05</td><td>196.039993</td><td>199.5</td><td>199.820007</td><td>195.990005</td><td>30564800</td><td>[201.594681, 201.018646, … 201.350952]</td></tr><tr><td>&quot;AMZN&quot;</td><td>2024-11-06</td><td>200.149994</td><td>204.804993</td><td>206.262497</td><td>199.139999</td><td>51250961</td><td>[205.535095, 205.278198, … 204.606445]</td></tr></tbody></table></div>"
      ],
      "text/plain": [
       "shape: (164, 8)\n",
       "┌────────┬────────────┬────────────┬────────────┬────────────┬────────────┬──────────┬─────────────┐\n",
       "│ symbol ┆ date       ┆ open       ┆ close      ┆ high       ┆ low        ┆ volume   ┆ pred        │\n",
       "│ ---    ┆ ---        ┆ ---        ┆ ---        ┆ ---        ┆ ---        ┆ ---      ┆ ---         │\n",
       "│ str    ┆ date       ┆ f64        ┆ f64        ┆ f64        ┆ f64        ┆ i64      ┆ array[f32,  │\n",
       "│        ┆            ┆            ┆            ┆            ┆            ┆          ┆ 8]          │\n",
       "╞════════╪════════════╪════════════╪════════════╪════════════╪════════════╪══════════╪═════════════╡\n",
       "│ AMZN   ┆ 2024-03-15 ┆ 176.639999 ┆ 174.419998 ┆ 177.929993 ┆ 173.899994 ┆ 72115500 ┆ [173.260468 │\n",
       "│        ┆            ┆            ┆            ┆            ┆            ┆          ┆ ,           │\n",
       "│        ┆            ┆            ┆            ┆            ┆            ┆          ┆ 173.433975, │\n",
       "│        ┆            ┆            ┆            ┆            ┆            ┆          ┆ … 173…      │\n",
       "│ AMZN   ┆ 2024-03-18 ┆ 175.800003 ┆ 174.479996 ┆ 176.690002 ┆ 174.279999 ┆ 31250700 ┆ [174.102325 │\n",
       "│        ┆            ┆            ┆            ┆            ┆            ┆          ┆ ,           │\n",
       "│        ┆            ┆            ┆            ┆            ┆            ┆          ┆ 174.274918, │\n",
       "│        ┆            ┆            ┆            ┆            ┆            ┆          ┆ … 175…      │\n",
       "│ AMZN   ┆ 2024-03-19 ┆ 174.220001 ┆ 175.899994 ┆ 176.089996 ┆ 173.520004 ┆ 26880900 ┆ [176.449158 │\n",
       "│        ┆            ┆            ┆            ┆            ┆            ┆          ┆ ,           │\n",
       "│        ┆            ┆            ┆            ┆            ┆            ┆          ┆ 176.600403, │\n",
       "│        ┆            ┆            ┆            ┆            ┆            ┆          ┆ … 177…      │\n",
       "│ AMZN   ┆ 2024-03-20 ┆ 176.139999 ┆ 178.149994 ┆ 178.529999 ┆ 174.639999 ┆ 29947200 ┆ [178.290375 │\n",
       "│        ┆            ┆            ┆            ┆            ┆            ┆          ┆ ,           │\n",
       "│        ┆            ┆            ┆            ┆            ┆            ┆          ┆ 178.366974, │\n",
       "│        ┆            ┆            ┆            ┆            ┆            ┆          ┆ … 179…      │\n",
       "│ AMZN   ┆ 2024-03-21 ┆ 179.990005 ┆ 178.149994 ┆ 181.419998 ┆ 178.149994 ┆ 32824300 ┆ [179.562714 │\n",
       "│        ┆            ┆            ┆            ┆            ┆            ┆          ┆ ,           │\n",
       "│        ┆            ┆            ┆            ┆            ┆            ┆          ┆ 179.60614,  │\n",
       "│        ┆            ┆            ┆            ┆            ┆            ┆          ┆ … 179.…     │\n",
       "│ …      ┆ …          ┆ …          ┆ …          ┆ …          ┆ …          ┆ …        ┆ …           │\n",
       "│ AMZN   ┆ 2024-10-31 ┆ 190.509995 ┆ 186.399994 ┆ 190.600006 ┆ 185.229996 ┆ 75146800 ┆ [184.40036, │\n",
       "│        ┆            ┆            ┆            ┆            ┆            ┆          ┆ 183.942627, │\n",
       "│        ┆            ┆            ┆            ┆            ┆            ┆          ┆ … 184.…     │\n",
       "│ AMZN   ┆ 2024-11-01 ┆ 199.0      ┆ 197.929993 ┆ 200.5      ┆ 197.020004 ┆ 99687800 ┆ [200.619995 │\n",
       "│        ┆            ┆            ┆            ┆            ┆            ┆          ┆ ,           │\n",
       "│        ┆            ┆            ┆            ┆            ┆            ┆          ┆ 199.987335, │\n",
       "│        ┆            ┆            ┆            ┆            ┆            ┆          ┆ … 200…      │\n",
       "│ AMZN   ┆ 2024-11-04 ┆ 196.449997 ┆ 195.779999 ┆ 197.330002 ┆ 194.309998 ┆ 38492100 ┆ [196.872269 │\n",
       "│        ┆            ┆            ┆            ┆            ┆            ┆          ┆ ,           │\n",
       "│        ┆            ┆            ┆            ┆            ┆            ┆          ┆ 196.485413, │\n",
       "│        ┆            ┆            ┆            ┆            ┆            ┆          ┆ … 196…      │\n",
       "│ AMZN   ┆ 2024-11-05 ┆ 196.039993 ┆ 199.5      ┆ 199.820007 ┆ 195.990005 ┆ 30564800 ┆ [201.594681 │\n",
       "│        ┆            ┆            ┆            ┆            ┆            ┆          ┆ ,           │\n",
       "│        ┆            ┆            ┆            ┆            ┆            ┆          ┆ 201.018646, │\n",
       "│        ┆            ┆            ┆            ┆            ┆            ┆          ┆ … 201…      │\n",
       "│ AMZN   ┆ 2024-11-06 ┆ 200.149994 ┆ 204.804993 ┆ 206.262497 ┆ 199.139999 ┆ 51250961 ┆ [205.535095 │\n",
       "│        ┆            ┆            ┆            ┆            ┆            ┆          ┆ ,           │\n",
       "│        ┆            ┆            ┆            ┆            ┆            ┆          ┆ 205.278198, │\n",
       "│        ┆            ┆            ┆            ┆            ┆            ┆          ┆ … 204…      │\n",
       "└────────┴────────────┴────────────┴────────────┴────────────┴────────────┴──────────┴─────────────┘"
      ]
     },
     "execution_count": 99,
     "metadata": {},
     "output_type": "execute_result"
    }
   ],
   "source": [
    "df = pl.read_parquet(\"i/amzn.parquet\").select(pl.all().name.to_lowercase())\n",
    "df = df.filter(pl.all_horizontal(pl.col('pred').arr.first().is_not_nan()))\n",
    "df"
   ]
  },
  {
   "cell_type": "code",
   "execution_count": 100,
   "metadata": {},
   "outputs": [],
   "source": [
    "from typing import Iterable\n",
    "\n",
    "\n",
    "def eucledian_length(x: pl.Expr, y: pl.Expr):\n",
    "    return (x**2 + y**2).sqrt()\n",
    "\n",
    "def vangle(i: pl.Expr, base: pl.Expr, a: pl.Expr, b: pl.Expr):\n",
    "    a = a - base\n",
    "    b = b - base\n",
    "    angle_cos = (i * i + a * b) / (eucledian_length(i, a) * eucledian_length(i, b))\n",
    "    return angle_cos.clip(-1, 1).arccos()\n",
    "\n",
    "def meanstd(cols: Iterable[str]):\n",
    "    return (\n",
    "        pl.struct(mean=pl.mean(col), std=pl.std(col)).alias(col)\n",
    "        for col in cols\n",
    "    )"
   ]
  },
  {
   "cell_type": "code",
   "execution_count": 101,
   "metadata": {},
   "outputs": [
    {
     "data": {
      "text/html": [
       "<div><style>\n",
       ".dataframe > thead > tr,\n",
       ".dataframe > tbody > tr {\n",
       "  text-align: right;\n",
       "  white-space: pre-wrap;\n",
       "}\n",
       "</style>\n",
       "<small>shape: (164, 15)</small><table border=\"1\" class=\"dataframe\"><thead><tr><th>symbol</th><th>date</th><th>open</th><th>close</th><th>high</th><th>low</th><th>volume</th><th>pred_1</th><th>pred_2</th><th>pred_3</th><th>pred_4</th><th>pred_5</th><th>pred_6</th><th>pred_7</th><th>pred_8</th></tr><tr><td>str</td><td>date</td><td>f64</td><td>f64</td><td>f64</td><td>f64</td><td>i64</td><td>f32</td><td>f32</td><td>f32</td><td>f32</td><td>f32</td><td>f32</td><td>f32</td><td>f32</td></tr></thead><tbody><tr><td>&quot;AMZN&quot;</td><td>2024-03-15</td><td>176.639999</td><td>174.419998</td><td>177.929993</td><td>173.899994</td><td>72115500</td><td>173.260468</td><td>173.433975</td><td>174.134033</td><td>173.89415</td><td>174.549118</td><td>174.525635</td><td>174.175385</td><td>173.815308</td></tr><tr><td>&quot;AMZN&quot;</td><td>2024-03-18</td><td>175.800003</td><td>174.479996</td><td>176.690002</td><td>174.279999</td><td>31250700</td><td>174.102325</td><td>174.274918</td><td>174.496017</td><td>174.429047</td><td>175.118759</td><td>174.910553</td><td>175.387848</td><td>175.117676</td></tr><tr><td>&quot;AMZN&quot;</td><td>2024-03-19</td><td>174.220001</td><td>175.899994</td><td>176.089996</td><td>173.520004</td><td>26880900</td><td>176.449158</td><td>176.600403</td><td>176.623657</td><td>176.723907</td><td>176.99942</td><td>176.733429</td><td>177.150391</td><td>177.051682</td></tr><tr><td>&quot;AMZN&quot;</td><td>2024-03-20</td><td>176.139999</td><td>178.149994</td><td>178.529999</td><td>174.639999</td><td>29947200</td><td>178.290375</td><td>178.366974</td><td>178.324554</td><td>178.564926</td><td>178.793854</td><td>178.812958</td><td>179.076111</td><td>179.159897</td></tr><tr><td>&quot;AMZN&quot;</td><td>2024-03-21</td><td>179.990005</td><td>178.149994</td><td>181.419998</td><td>178.149994</td><td>32824300</td><td>179.562714</td><td>179.60614</td><td>179.393784</td><td>179.721878</td><td>179.279785</td><td>179.557236</td><td>179.522644</td><td>179.870117</td></tr><tr><td>&hellip;</td><td>&hellip;</td><td>&hellip;</td><td>&hellip;</td><td>&hellip;</td><td>&hellip;</td><td>&hellip;</td><td>&hellip;</td><td>&hellip;</td><td>&hellip;</td><td>&hellip;</td><td>&hellip;</td><td>&hellip;</td><td>&hellip;</td><td>&hellip;</td></tr><tr><td>&quot;AMZN&quot;</td><td>2024-10-31</td><td>190.509995</td><td>186.399994</td><td>190.600006</td><td>185.229996</td><td>75146800</td><td>184.40036</td><td>183.942627</td><td>183.985168</td><td>183.692749</td><td>184.428925</td><td>184.378113</td><td>184.264816</td><td>184.04361</td></tr><tr><td>&quot;AMZN&quot;</td><td>2024-11-01</td><td>199.0</td><td>197.929993</td><td>200.5</td><td>197.020004</td><td>99687800</td><td>200.619995</td><td>199.987335</td><td>199.953857</td><td>199.71373</td><td>200.343536</td><td>199.859772</td><td>199.640808</td><td>200.000198</td></tr><tr><td>&quot;AMZN&quot;</td><td>2024-11-04</td><td>196.449997</td><td>195.779999</td><td>197.330002</td><td>194.309998</td><td>38492100</td><td>196.872269</td><td>196.485413</td><td>196.704773</td><td>196.762833</td><td>196.953674</td><td>196.603027</td><td>196.345016</td><td>196.674103</td></tr><tr><td>&quot;AMZN&quot;</td><td>2024-11-05</td><td>196.039993</td><td>199.5</td><td>199.820007</td><td>195.990005</td><td>30564800</td><td>201.594681</td><td>201.018646</td><td>201.293457</td><td>200.920227</td><td>200.989212</td><td>200.7444</td><td>200.930756</td><td>201.350952</td></tr><tr><td>&quot;AMZN&quot;</td><td>2024-11-06</td><td>200.149994</td><td>204.804993</td><td>206.262497</td><td>199.139999</td><td>51250961</td><td>205.535095</td><td>205.278198</td><td>204.742493</td><td>204.311615</td><td>204.219284</td><td>204.428558</td><td>204.278305</td><td>204.606445</td></tr></tbody></table></div>"
      ],
      "text/plain": [
       "shape: (164, 15)\n",
       "┌────────┬────────────┬────────────┬───────────┬───┬───────────┬───────────┬───────────┬───────────┐\n",
       "│ symbol ┆ date       ┆ open       ┆ close     ┆ … ┆ pred_5    ┆ pred_6    ┆ pred_7    ┆ pred_8    │\n",
       "│ ---    ┆ ---        ┆ ---        ┆ ---       ┆   ┆ ---       ┆ ---       ┆ ---       ┆ ---       │\n",
       "│ str    ┆ date       ┆ f64        ┆ f64       ┆   ┆ f32       ┆ f32       ┆ f32       ┆ f32       │\n",
       "╞════════╪════════════╪════════════╪═══════════╪═══╪═══════════╪═══════════╪═══════════╪═══════════╡\n",
       "│ AMZN   ┆ 2024-03-15 ┆ 176.639999 ┆ 174.41999 ┆ … ┆ 174.54911 ┆ 174.52563 ┆ 174.17538 ┆ 173.81530 │\n",
       "│        ┆            ┆            ┆ 8         ┆   ┆ 8         ┆ 5         ┆ 5         ┆ 8         │\n",
       "│ AMZN   ┆ 2024-03-18 ┆ 175.800003 ┆ 174.47999 ┆ … ┆ 175.11875 ┆ 174.91055 ┆ 175.38784 ┆ 175.11767 │\n",
       "│        ┆            ┆            ┆ 6         ┆   ┆ 9         ┆ 3         ┆ 8         ┆ 6         │\n",
       "│ AMZN   ┆ 2024-03-19 ┆ 174.220001 ┆ 175.89999 ┆ … ┆ 176.99942 ┆ 176.73342 ┆ 177.15039 ┆ 177.05168 │\n",
       "│        ┆            ┆            ┆ 4         ┆   ┆           ┆ 9         ┆ 1         ┆ 2         │\n",
       "│ AMZN   ┆ 2024-03-20 ┆ 176.139999 ┆ 178.14999 ┆ … ┆ 178.79385 ┆ 178.81295 ┆ 179.07611 ┆ 179.15989 │\n",
       "│        ┆            ┆            ┆ 4         ┆   ┆ 4         ┆ 8         ┆ 1         ┆ 7         │\n",
       "│ AMZN   ┆ 2024-03-21 ┆ 179.990005 ┆ 178.14999 ┆ … ┆ 179.27978 ┆ 179.55723 ┆ 179.52264 ┆ 179.87011 │\n",
       "│        ┆            ┆            ┆ 4         ┆   ┆ 5         ┆ 6         ┆ 4         ┆ 7         │\n",
       "│ …      ┆ …          ┆ …          ┆ …         ┆ … ┆ …         ┆ …         ┆ …         ┆ …         │\n",
       "│ AMZN   ┆ 2024-10-31 ┆ 190.509995 ┆ 186.39999 ┆ … ┆ 184.42892 ┆ 184.37811 ┆ 184.26481 ┆ 184.04361 │\n",
       "│        ┆            ┆            ┆ 4         ┆   ┆ 5         ┆ 3         ┆ 6         ┆           │\n",
       "│ AMZN   ┆ 2024-11-01 ┆ 199.0      ┆ 197.92999 ┆ … ┆ 200.34353 ┆ 199.85977 ┆ 199.64080 ┆ 200.00019 │\n",
       "│        ┆            ┆            ┆ 3         ┆   ┆ 6         ┆ 2         ┆ 8         ┆ 8         │\n",
       "│ AMZN   ┆ 2024-11-04 ┆ 196.449997 ┆ 195.77999 ┆ … ┆ 196.95367 ┆ 196.60302 ┆ 196.34501 ┆ 196.67410 │\n",
       "│        ┆            ┆            ┆ 9         ┆   ┆ 4         ┆ 7         ┆ 6         ┆ 3         │\n",
       "│ AMZN   ┆ 2024-11-05 ┆ 196.039993 ┆ 199.5     ┆ … ┆ 200.98921 ┆ 200.7444  ┆ 200.93075 ┆ 201.35095 │\n",
       "│        ┆            ┆            ┆           ┆   ┆ 2         ┆           ┆ 6         ┆ 2         │\n",
       "│ AMZN   ┆ 2024-11-06 ┆ 200.149994 ┆ 204.80499 ┆ … ┆ 204.21928 ┆ 204.42855 ┆ 204.27830 ┆ 204.60644 │\n",
       "│        ┆            ┆            ┆ 3         ┆   ┆ 4         ┆ 8         ┆ 5         ┆ 5         │\n",
       "└────────┴────────────┴────────────┴───────────┴───┴───────────┴───────────┴───────────┴───────────┘"
      ]
     },
     "execution_count": 101,
     "metadata": {},
     "output_type": "execute_result"
    }
   ],
   "source": [
    "preds = df.with_columns(pl.col('pred').arr.to_struct(lambda i: f'pred_{i + 1}')).unnest('pred')\n",
    "preds"
   ]
  },
  {
   "cell_type": "code",
   "execution_count": 102,
   "metadata": {},
   "outputs": [
    {
     "data": {
      "text/html": [
       "<div><style>\n",
       ".dataframe > thead > tr,\n",
       ".dataframe > tbody > tr {\n",
       "  text-align: right;\n",
       "  white-space: pre-wrap;\n",
       "}\n",
       "</style>\n",
       "<small>shape: (1, 8)</small><table border=\"1\" class=\"dataframe\"><thead><tr><th>mape_1</th><th>mape_2</th><th>mape_3</th><th>mape_4</th><th>mape_5</th><th>mape_6</th><th>mape_7</th><th>mape_8</th></tr><tr><td>struct[2]</td><td>struct[2]</td><td>struct[2]</td><td>struct[2]</td><td>struct[2]</td><td>struct[2]</td><td>struct[2]</td><td>struct[2]</td></tr></thead><tbody><tr><td>{0.014846,0.013808}</td><td>{0.020078,0.019414}</td><td>{0.025081,0.023143}</td><td>{0.029835,0.026608}</td><td>{0.03403,0.028208}</td><td>{0.03746,0.029541}</td><td>{0.04084,0.030245}</td><td>{0.044337,0.029919}</td></tr></tbody></table></div>"
      ],
      "text/plain": [
       "shape: (1, 8)\n",
       "┌────────────┬────────────┬────────────┬───────────┬───────────┬───────────┬───────────┬───────────┐\n",
       "│ mape_1     ┆ mape_2     ┆ mape_3     ┆ mape_4    ┆ mape_5    ┆ mape_6    ┆ mape_7    ┆ mape_8    │\n",
       "│ ---        ┆ ---        ┆ ---        ┆ ---       ┆ ---       ┆ ---       ┆ ---       ┆ ---       │\n",
       "│ struct[2]  ┆ struct[2]  ┆ struct[2]  ┆ struct[2] ┆ struct[2] ┆ struct[2] ┆ struct[2] ┆ struct[2] │\n",
       "╞════════════╪════════════╪════════════╪═══════════╪═══════════╪═══════════╪═══════════╪═══════════╡\n",
       "│ {0.014846, ┆ {0.020078, ┆ {0.025081, ┆ {0.029835 ┆ {0.03403, ┆ {0.03746, ┆ {0.04084, ┆ {0.044337 │\n",
       "│ 0.013808}  ┆ 0.019414}  ┆ 0.023143}  ┆ ,0.026608 ┆ 0.028208} ┆ 0.029541} ┆ 0.030245} ┆ ,0.029919 │\n",
       "│            ┆            ┆            ┆ }         ┆           ┆           ┆           ┆ }         │\n",
       "└────────────┴────────────┴────────────┴───────────┴───────────┴───────────┴───────────┴───────────┘"
      ]
     },
     "execution_count": 102,
     "metadata": {},
     "output_type": "execute_result"
    }
   ],
   "source": [
    "preds.select(\n",
    "    ((pl.col('close').shift(-i) - pl.col(f'pred_{i}')).abs() / pl.col('close').shift(-i).abs()).alias(f'mape_{i}')\n",
    "    for i in range(1, 9)\n",
    ").select(\n",
    "    meanstd(f'mape_{i}' for i in range(1, 9))\n",
    ")"
   ]
  },
  {
   "cell_type": "code",
   "execution_count": 103,
   "metadata": {},
   "outputs": [
    {
     "data": {
      "text/html": [
       "<div><style>\n",
       ".dataframe > thead > tr,\n",
       ".dataframe > tbody > tr {\n",
       "  text-align: right;\n",
       "  white-space: pre-wrap;\n",
       "}\n",
       "</style>\n",
       "<small>shape: (1, 8)</small><table border=\"1\" class=\"dataframe\"><thead><tr><th>profit_1</th><th>profit_2</th><th>profit_3</th><th>profit_4</th><th>profit_5</th><th>profit_6</th><th>profit_7</th><th>profit_8</th></tr><tr><td>f64</td><td>f64</td><td>f64</td><td>f64</td><td>f64</td><td>f64</td><td>f64</td><td>f64</td></tr></thead><tbody><tr><td>-0.0013</td><td>-0.0021</td><td>-0.0063</td><td>-0.0056</td><td>-0.0055</td><td>-0.0055</td><td>-0.0066</td><td>-0.0092</td></tr></tbody></table></div>"
      ],
      "text/plain": [
       "shape: (1, 8)\n",
       "┌──────────┬──────────┬──────────┬──────────┬──────────┬──────────┬──────────┬──────────┐\n",
       "│ profit_1 ┆ profit_2 ┆ profit_3 ┆ profit_4 ┆ profit_5 ┆ profit_6 ┆ profit_7 ┆ profit_8 │\n",
       "│ ---      ┆ ---      ┆ ---      ┆ ---      ┆ ---      ┆ ---      ┆ ---      ┆ ---      │\n",
       "│ f64      ┆ f64      ┆ f64      ┆ f64      ┆ f64      ┆ f64      ┆ f64      ┆ f64      │\n",
       "╞══════════╪══════════╪══════════╪══════════╪══════════╪══════════╪══════════╪══════════╡\n",
       "│ -0.0013  ┆ -0.0021  ┆ -0.0063  ┆ -0.0056  ┆ -0.0055  ┆ -0.0055  ┆ -0.0066  ┆ -0.0092  │\n",
       "└──────────┴──────────┴──────────┴──────────┴──────────┴──────────┴──────────┴──────────┘"
      ]
     },
     "execution_count": 103,
     "metadata": {},
     "output_type": "execute_result"
    }
   ],
   "source": [
    "def log_profit(i: int):\n",
    "    return (pl.col('close').shift(-i) / pl.col('close')).log()\n",
    "\n",
    "profits = preds.select(\n",
    "    (\n",
    "        pl.when(pl.col(f'pred_{i}') > pl.col('close'))\n",
    "        .then(log_profit(i))\n",
    "        .otherwise(-log_profit(i))\n",
    "    ).alias(f'profit_{i}')\n",
    "    for i in range(1, 9)\n",
    ").select(pl.all().mean().exp() - 1)\n",
    "profits.select(pl.all().round(4))"
   ]
  },
  {
   "cell_type": "code",
   "execution_count": 104,
   "metadata": {},
   "outputs": [
    {
     "data": {
      "text/html": [
       "<div><style>\n",
       ".dataframe > thead > tr,\n",
       ".dataframe > tbody > tr {\n",
       "  text-align: right;\n",
       "  white-space: pre-wrap;\n",
       "}\n",
       "</style>\n",
       "<small>shape: (1, 8)</small><table border=\"1\" class=\"dataframe\"><thead><tr><th>profit_1</th><th>profit_2</th><th>profit_3</th><th>profit_4</th><th>profit_5</th><th>profit_6</th><th>profit_7</th><th>profit_8</th></tr><tr><td>f64</td><td>f64</td><td>f64</td><td>f64</td><td>f64</td><td>f64</td><td>f64</td><td>f64</td></tr></thead><tbody><tr><td>-0.27</td><td>-0.227</td><td>-0.412</td><td>-0.298</td><td>-0.243</td><td>-0.207</td><td>-0.212</td><td>-0.252</td></tr></tbody></table></div>"
      ],
      "text/plain": [
       "shape: (1, 8)\n",
       "┌──────────┬──────────┬──────────┬──────────┬──────────┬──────────┬──────────┬──────────┐\n",
       "│ profit_1 ┆ profit_2 ┆ profit_3 ┆ profit_4 ┆ profit_5 ┆ profit_6 ┆ profit_7 ┆ profit_8 │\n",
       "│ ---      ┆ ---      ┆ ---      ┆ ---      ┆ ---      ┆ ---      ┆ ---      ┆ ---      │\n",
       "│ f64      ┆ f64      ┆ f64      ┆ f64      ┆ f64      ┆ f64      ┆ f64      ┆ f64      │\n",
       "╞══════════╪══════════╪══════════╪══════════╪══════════╪══════════╪══════════╪══════════╡\n",
       "│ -0.27    ┆ -0.227   ┆ -0.412   ┆ -0.298   ┆ -0.243   ┆ -0.207   ┆ -0.212   ┆ -0.252   │\n",
       "└──────────┴──────────┴──────────┴──────────┴──────────┴──────────┴──────────┴──────────┘"
      ]
     },
     "execution_count": 104,
     "metadata": {},
     "output_type": "execute_result"
    }
   ],
   "source": [
    "profits.select(\n",
    "    ((1 + pl.col(f'profit_{i}')) ** (251 / i) - 1).name.keep()\n",
    "    for i in range(1, 9)\n",
    ").select(pl.all().round(3))"
   ]
  },
  {
   "cell_type": "code",
   "execution_count": 105,
   "metadata": {},
   "outputs": [
    {
     "data": {
      "text/html": [
       "<div><style>\n",
       ".dataframe > thead > tr,\n",
       ".dataframe > tbody > tr {\n",
       "  text-align: right;\n",
       "  white-space: pre-wrap;\n",
       "}\n",
       "</style>\n",
       "<small>shape: (1, 1)</small><table border=\"1\" class=\"dataframe\"><thead><tr><th>close</th></tr><tr><td>f64</td></tr></thead><tbody><tr><td>0.2786</td></tr></tbody></table></div>"
      ],
      "text/plain": [
       "shape: (1, 1)\n",
       "┌────────┐\n",
       "│ close  │\n",
       "│ ---    │\n",
       "│ f64    │\n",
       "╞════════╡\n",
       "│ 0.2786 │\n",
       "└────────┘"
      ]
     },
     "execution_count": 105,
     "metadata": {},
     "output_type": "execute_result"
    }
   ],
   "source": [
    "total_days = (pl.last('date') - pl.first('date')).dt.total_days()\n",
    "price_diff = pl.last('close') / pl.first('close')\n",
    "df.select(\n",
    "    price_diff ** (251 / pl.len()) - 1\n",
    ").select(pl.all().round(4))"
   ]
  }
 ],
 "metadata": {
  "kernelspec": {
   "display_name": "3.12.4",
   "language": "python",
   "name": "python3"
  },
  "language_info": {
   "codemirror_mode": {
    "name": "ipython",
    "version": 3
   },
   "file_extension": ".py",
   "mimetype": "text/x-python",
   "name": "python",
   "nbconvert_exporter": "python",
   "pygments_lexer": "ipython3",
   "version": "3.12.4"
  }
 },
 "nbformat": 4,
 "nbformat_minor": 2
}
